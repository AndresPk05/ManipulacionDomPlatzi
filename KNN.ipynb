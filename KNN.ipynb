{
  "nbformat": 4,
  "nbformat_minor": 0,
  "metadata": {
    "colab": {
      "provenance": [],
      "authorship_tag": "ABX9TyN8L1mb22dT2Vk945CzzbSk",
      "include_colab_link": true
    },
    "kernelspec": {
      "name": "python3",
      "display_name": "Python 3"
    },
    "language_info": {
      "name": "python"
    }
  },
  "cells": [
    {
      "cell_type": "markdown",
      "metadata": {
        "id": "view-in-github",
        "colab_type": "text"
      },
      "source": [
        "<a href=\"https://colab.research.google.com/github/AndresPk05/ManipulacionDomPlatzi/blob/main/KNN.ipynb\" target=\"_parent\"><img src=\"https://colab.research.google.com/assets/colab-badge.svg\" alt=\"Open In Colab\"/></a>"
      ]
    },
    {
      "cell_type": "code",
      "execution_count": 28,
      "metadata": {
        "id": "opriPsW5faU8"
      },
      "outputs": [],
      "source": [
        "#imports\n",
        "import numpy as np\n",
        "import matplotlib.pyplot as plt\n",
        "import pandas as pd\n",
        "import csv\n",
        "from sklearn import preprocessing"
      ]
    },
    {
      "cell_type": "code",
      "source": [
        "#Se lee dataset\n",
        "datos = pd.read_csv('/bmd.csv')\n",
        "datos.head()"
      ],
      "metadata": {
        "colab": {
          "base_uri": "https://localhost:8080/",
          "height": 206
        },
        "id": "tnK-ngevfxVq",
        "outputId": "08611e34-7a41-44f5-9a52-7986c08cf7de"
      },
      "execution_count": 10,
      "outputs": [
        {
          "output_type": "execute_result",
          "data": {
            "text/plain": [
              "      id        age sex     fracture  weight_kg  height_cm      medication  \\\n",
              "0    469  57.052768   F  no fracture       64.0      155.5  Anticonvulsant   \n",
              "1   8724  75.741225   F  no fracture       78.0      162.0   No medication   \n",
              "2   6736  70.778900   M  no fracture       73.0      170.5   No medication   \n",
              "3  24180  78.247175   F  no fracture       60.0      148.0   No medication   \n",
              "4  17072  54.191877   M  no fracture       55.0      161.0   No medication   \n",
              "\n",
              "   waiting_time     bmd  \n",
              "0            18  0.8793  \n",
              "1            56  0.7946  \n",
              "2            10  0.9067  \n",
              "3            14  0.7112  \n",
              "4            20  0.7909  "
            ],
            "text/html": [
              "\n",
              "  <div id=\"df-9d27f44d-dd1a-4f65-8b9d-f604d62c0885\" class=\"colab-df-container\">\n",
              "    <div>\n",
              "<style scoped>\n",
              "    .dataframe tbody tr th:only-of-type {\n",
              "        vertical-align: middle;\n",
              "    }\n",
              "\n",
              "    .dataframe tbody tr th {\n",
              "        vertical-align: top;\n",
              "    }\n",
              "\n",
              "    .dataframe thead th {\n",
              "        text-align: right;\n",
              "    }\n",
              "</style>\n",
              "<table border=\"1\" class=\"dataframe\">\n",
              "  <thead>\n",
              "    <tr style=\"text-align: right;\">\n",
              "      <th></th>\n",
              "      <th>id</th>\n",
              "      <th>age</th>\n",
              "      <th>sex</th>\n",
              "      <th>fracture</th>\n",
              "      <th>weight_kg</th>\n",
              "      <th>height_cm</th>\n",
              "      <th>medication</th>\n",
              "      <th>waiting_time</th>\n",
              "      <th>bmd</th>\n",
              "    </tr>\n",
              "  </thead>\n",
              "  <tbody>\n",
              "    <tr>\n",
              "      <th>0</th>\n",
              "      <td>469</td>\n",
              "      <td>57.052768</td>\n",
              "      <td>F</td>\n",
              "      <td>no fracture</td>\n",
              "      <td>64.0</td>\n",
              "      <td>155.5</td>\n",
              "      <td>Anticonvulsant</td>\n",
              "      <td>18</td>\n",
              "      <td>0.8793</td>\n",
              "    </tr>\n",
              "    <tr>\n",
              "      <th>1</th>\n",
              "      <td>8724</td>\n",
              "      <td>75.741225</td>\n",
              "      <td>F</td>\n",
              "      <td>no fracture</td>\n",
              "      <td>78.0</td>\n",
              "      <td>162.0</td>\n",
              "      <td>No medication</td>\n",
              "      <td>56</td>\n",
              "      <td>0.7946</td>\n",
              "    </tr>\n",
              "    <tr>\n",
              "      <th>2</th>\n",
              "      <td>6736</td>\n",
              "      <td>70.778900</td>\n",
              "      <td>M</td>\n",
              "      <td>no fracture</td>\n",
              "      <td>73.0</td>\n",
              "      <td>170.5</td>\n",
              "      <td>No medication</td>\n",
              "      <td>10</td>\n",
              "      <td>0.9067</td>\n",
              "    </tr>\n",
              "    <tr>\n",
              "      <th>3</th>\n",
              "      <td>24180</td>\n",
              "      <td>78.247175</td>\n",
              "      <td>F</td>\n",
              "      <td>no fracture</td>\n",
              "      <td>60.0</td>\n",
              "      <td>148.0</td>\n",
              "      <td>No medication</td>\n",
              "      <td>14</td>\n",
              "      <td>0.7112</td>\n",
              "    </tr>\n",
              "    <tr>\n",
              "      <th>4</th>\n",
              "      <td>17072</td>\n",
              "      <td>54.191877</td>\n",
              "      <td>M</td>\n",
              "      <td>no fracture</td>\n",
              "      <td>55.0</td>\n",
              "      <td>161.0</td>\n",
              "      <td>No medication</td>\n",
              "      <td>20</td>\n",
              "      <td>0.7909</td>\n",
              "    </tr>\n",
              "  </tbody>\n",
              "</table>\n",
              "</div>\n",
              "    <div class=\"colab-df-buttons\">\n",
              "\n",
              "  <div class=\"colab-df-container\">\n",
              "    <button class=\"colab-df-convert\" onclick=\"convertToInteractive('df-9d27f44d-dd1a-4f65-8b9d-f604d62c0885')\"\n",
              "            title=\"Convert this dataframe to an interactive table.\"\n",
              "            style=\"display:none;\">\n",
              "\n",
              "  <svg xmlns=\"http://www.w3.org/2000/svg\" height=\"24px\" viewBox=\"0 -960 960 960\">\n",
              "    <path d=\"M120-120v-720h720v720H120Zm60-500h600v-160H180v160Zm220 220h160v-160H400v160Zm0 220h160v-160H400v160ZM180-400h160v-160H180v160Zm440 0h160v-160H620v160ZM180-180h160v-160H180v160Zm440 0h160v-160H620v160Z\"/>\n",
              "  </svg>\n",
              "    </button>\n",
              "\n",
              "  <style>\n",
              "    .colab-df-container {\n",
              "      display:flex;\n",
              "      gap: 12px;\n",
              "    }\n",
              "\n",
              "    .colab-df-convert {\n",
              "      background-color: #E8F0FE;\n",
              "      border: none;\n",
              "      border-radius: 50%;\n",
              "      cursor: pointer;\n",
              "      display: none;\n",
              "      fill: #1967D2;\n",
              "      height: 32px;\n",
              "      padding: 0 0 0 0;\n",
              "      width: 32px;\n",
              "    }\n",
              "\n",
              "    .colab-df-convert:hover {\n",
              "      background-color: #E2EBFA;\n",
              "      box-shadow: 0px 1px 2px rgba(60, 64, 67, 0.3), 0px 1px 3px 1px rgba(60, 64, 67, 0.15);\n",
              "      fill: #174EA6;\n",
              "    }\n",
              "\n",
              "    .colab-df-buttons div {\n",
              "      margin-bottom: 4px;\n",
              "    }\n",
              "\n",
              "    [theme=dark] .colab-df-convert {\n",
              "      background-color: #3B4455;\n",
              "      fill: #D2E3FC;\n",
              "    }\n",
              "\n",
              "    [theme=dark] .colab-df-convert:hover {\n",
              "      background-color: #434B5C;\n",
              "      box-shadow: 0px 1px 3px 1px rgba(0, 0, 0, 0.15);\n",
              "      filter: drop-shadow(0px 1px 2px rgba(0, 0, 0, 0.3));\n",
              "      fill: #FFFFFF;\n",
              "    }\n",
              "  </style>\n",
              "\n",
              "    <script>\n",
              "      const buttonEl =\n",
              "        document.querySelector('#df-9d27f44d-dd1a-4f65-8b9d-f604d62c0885 button.colab-df-convert');\n",
              "      buttonEl.style.display =\n",
              "        google.colab.kernel.accessAllowed ? 'block' : 'none';\n",
              "\n",
              "      async function convertToInteractive(key) {\n",
              "        const element = document.querySelector('#df-9d27f44d-dd1a-4f65-8b9d-f604d62c0885');\n",
              "        const dataTable =\n",
              "          await google.colab.kernel.invokeFunction('convertToInteractive',\n",
              "                                                    [key], {});\n",
              "        if (!dataTable) return;\n",
              "\n",
              "        const docLinkHtml = 'Like what you see? Visit the ' +\n",
              "          '<a target=\"_blank\" href=https://colab.research.google.com/notebooks/data_table.ipynb>data table notebook</a>'\n",
              "          + ' to learn more about interactive tables.';\n",
              "        element.innerHTML = '';\n",
              "        dataTable['output_type'] = 'display_data';\n",
              "        await google.colab.output.renderOutput(dataTable, element);\n",
              "        const docLink = document.createElement('div');\n",
              "        docLink.innerHTML = docLinkHtml;\n",
              "        element.appendChild(docLink);\n",
              "      }\n",
              "    </script>\n",
              "  </div>\n",
              "\n",
              "\n",
              "<div id=\"df-b7aecd27-e864-4aff-9874-b38f2fa39691\">\n",
              "  <button class=\"colab-df-quickchart\" onclick=\"quickchart('df-b7aecd27-e864-4aff-9874-b38f2fa39691')\"\n",
              "            title=\"Suggest charts.\"\n",
              "            style=\"display:none;\">\n",
              "\n",
              "<svg xmlns=\"http://www.w3.org/2000/svg\" height=\"24px\"viewBox=\"0 0 24 24\"\n",
              "     width=\"24px\">\n",
              "    <g>\n",
              "        <path d=\"M19 3H5c-1.1 0-2 .9-2 2v14c0 1.1.9 2 2 2h14c1.1 0 2-.9 2-2V5c0-1.1-.9-2-2-2zM9 17H7v-7h2v7zm4 0h-2V7h2v10zm4 0h-2v-4h2v4z\"/>\n",
              "    </g>\n",
              "</svg>\n",
              "  </button>\n",
              "\n",
              "<style>\n",
              "  .colab-df-quickchart {\n",
              "      --bg-color: #E8F0FE;\n",
              "      --fill-color: #1967D2;\n",
              "      --hover-bg-color: #E2EBFA;\n",
              "      --hover-fill-color: #174EA6;\n",
              "      --disabled-fill-color: #AAA;\n",
              "      --disabled-bg-color: #DDD;\n",
              "  }\n",
              "\n",
              "  [theme=dark] .colab-df-quickchart {\n",
              "      --bg-color: #3B4455;\n",
              "      --fill-color: #D2E3FC;\n",
              "      --hover-bg-color: #434B5C;\n",
              "      --hover-fill-color: #FFFFFF;\n",
              "      --disabled-bg-color: #3B4455;\n",
              "      --disabled-fill-color: #666;\n",
              "  }\n",
              "\n",
              "  .colab-df-quickchart {\n",
              "    background-color: var(--bg-color);\n",
              "    border: none;\n",
              "    border-radius: 50%;\n",
              "    cursor: pointer;\n",
              "    display: none;\n",
              "    fill: var(--fill-color);\n",
              "    height: 32px;\n",
              "    padding: 0;\n",
              "    width: 32px;\n",
              "  }\n",
              "\n",
              "  .colab-df-quickchart:hover {\n",
              "    background-color: var(--hover-bg-color);\n",
              "    box-shadow: 0 1px 2px rgba(60, 64, 67, 0.3), 0 1px 3px 1px rgba(60, 64, 67, 0.15);\n",
              "    fill: var(--button-hover-fill-color);\n",
              "  }\n",
              "\n",
              "  .colab-df-quickchart-complete:disabled,\n",
              "  .colab-df-quickchart-complete:disabled:hover {\n",
              "    background-color: var(--disabled-bg-color);\n",
              "    fill: var(--disabled-fill-color);\n",
              "    box-shadow: none;\n",
              "  }\n",
              "\n",
              "  .colab-df-spinner {\n",
              "    border: 2px solid var(--fill-color);\n",
              "    border-color: transparent;\n",
              "    border-bottom-color: var(--fill-color);\n",
              "    animation:\n",
              "      spin 1s steps(1) infinite;\n",
              "  }\n",
              "\n",
              "  @keyframes spin {\n",
              "    0% {\n",
              "      border-color: transparent;\n",
              "      border-bottom-color: var(--fill-color);\n",
              "      border-left-color: var(--fill-color);\n",
              "    }\n",
              "    20% {\n",
              "      border-color: transparent;\n",
              "      border-left-color: var(--fill-color);\n",
              "      border-top-color: var(--fill-color);\n",
              "    }\n",
              "    30% {\n",
              "      border-color: transparent;\n",
              "      border-left-color: var(--fill-color);\n",
              "      border-top-color: var(--fill-color);\n",
              "      border-right-color: var(--fill-color);\n",
              "    }\n",
              "    40% {\n",
              "      border-color: transparent;\n",
              "      border-right-color: var(--fill-color);\n",
              "      border-top-color: var(--fill-color);\n",
              "    }\n",
              "    60% {\n",
              "      border-color: transparent;\n",
              "      border-right-color: var(--fill-color);\n",
              "    }\n",
              "    80% {\n",
              "      border-color: transparent;\n",
              "      border-right-color: var(--fill-color);\n",
              "      border-bottom-color: var(--fill-color);\n",
              "    }\n",
              "    90% {\n",
              "      border-color: transparent;\n",
              "      border-bottom-color: var(--fill-color);\n",
              "    }\n",
              "  }\n",
              "</style>\n",
              "\n",
              "  <script>\n",
              "    async function quickchart(key) {\n",
              "      const quickchartButtonEl =\n",
              "        document.querySelector('#' + key + ' button');\n",
              "      quickchartButtonEl.disabled = true;  // To prevent multiple clicks.\n",
              "      quickchartButtonEl.classList.add('colab-df-spinner');\n",
              "      try {\n",
              "        const charts = await google.colab.kernel.invokeFunction(\n",
              "            'suggestCharts', [key], {});\n",
              "      } catch (error) {\n",
              "        console.error('Error during call to suggestCharts:', error);\n",
              "      }\n",
              "      quickchartButtonEl.classList.remove('colab-df-spinner');\n",
              "      quickchartButtonEl.classList.add('colab-df-quickchart-complete');\n",
              "    }\n",
              "    (() => {\n",
              "      let quickchartButtonEl =\n",
              "        document.querySelector('#df-b7aecd27-e864-4aff-9874-b38f2fa39691 button');\n",
              "      quickchartButtonEl.style.display =\n",
              "        google.colab.kernel.accessAllowed ? 'block' : 'none';\n",
              "    })();\n",
              "  </script>\n",
              "</div>\n",
              "    </div>\n",
              "  </div>\n"
            ]
          },
          "metadata": {},
          "execution_count": 10
        }
      ]
    },
    {
      "cell_type": "code",
      "source": [
        "# Se obtienen la cantidad de personas para los dos grupos\n",
        "clases = datos['fracture'].value_counts()\n",
        "print('La cantidad de personas fracturadas o no fracturadas son: ', clases)"
      ],
      "metadata": {
        "colab": {
          "base_uri": "https://localhost:8080/"
        },
        "id": "Fvt5hYW-gLGR",
        "outputId": "2155b9a3-e64a-422b-ffc5-5d65153433ce"
      },
      "execution_count": 11,
      "outputs": [
        {
          "output_type": "stream",
          "name": "stdout",
          "text": [
            "La cantidad de personas fracturadas o no fracturadas son:  no fracture    119\n",
            "fracture        50\n",
            "Name: fracture, dtype: int64\n"
          ]
        }
      ]
    },
    {
      "cell_type": "code",
      "source": [
        "# Se obtienen las caracteristicas del dataset\n",
        "\n",
        "carac = datos.columns\n",
        "print('Caracteristicas', carac)"
      ],
      "metadata": {
        "colab": {
          "base_uri": "https://localhost:8080/"
        },
        "id": "OO4_LiQlguGi",
        "outputId": "e96e078c-adc6-4317-e473-6894e1a15b0e"
      },
      "execution_count": 12,
      "outputs": [
        {
          "output_type": "stream",
          "name": "stdout",
          "text": [
            "Caracteristicas Index(['id', 'age', 'sex', 'fracture', 'weight_kg', 'height_cm', 'medication',\n",
            "       'waiting_time', 'bmd'],\n",
            "      dtype='object')\n"
          ]
        }
      ]
    },
    {
      "cell_type": "code",
      "source": [
        "X = datos[['age', 'bmd', 'weight_kg', 'height_cm']].values\n",
        "X[0:5]"
      ],
      "metadata": {
        "colab": {
          "base_uri": "https://localhost:8080/"
        },
        "id": "hnTK8K6ahBDa",
        "outputId": "895d021f-2ec4-4180-c9e1-b682f38ef574"
      },
      "execution_count": 20,
      "outputs": [
        {
          "output_type": "execute_result",
          "data": {
            "text/plain": [
              "array([[ 57.05276775,   0.8793    ,  64.        , 155.5       ],\n",
              "       [ 75.7412248 ,   0.79460001,  78.        , 162.        ],\n",
              "       [ 70.7789    ,   0.90670002,  73.        , 170.5       ],\n",
              "       [ 78.24717531,   0.7112    ,  60.        , 148.        ],\n",
              "       [ 54.1918766 ,   0.79089999,  55.        , 161.        ]])"
            ]
          },
          "metadata": {},
          "execution_count": 20
        }
      ]
    },
    {
      "cell_type": "code",
      "source": [
        "Y = datos['fracture'].values\n",
        "Y[0:5]"
      ],
      "metadata": {
        "colab": {
          "base_uri": "https://localhost:8080/"
        },
        "id": "wrPvjEL9j49Q",
        "outputId": "e742507b-84b8-433b-e19f-291c8563c435"
      },
      "execution_count": 21,
      "outputs": [
        {
          "output_type": "execute_result",
          "data": {
            "text/plain": [
              "array(['no fracture', 'no fracture', 'no fracture', 'no fracture',\n",
              "       'no fracture'], dtype=object)"
            ]
          },
          "metadata": {},
          "execution_count": 21
        }
      ]
    },
    {
      "cell_type": "code",
      "source": [
        "# Se transforman las caracteristicas seleccionadas en valores flotantes\n",
        "X = preprocessing.StandardScaler().fit(X).transform(X.astype(float))\n",
        "X[0:5]"
      ],
      "metadata": {
        "colab": {
          "base_uri": "https://localhost:8080/"
        },
        "id": "J7zIP8nDkLr-",
        "outputId": "dced7221-d268-4b2c-c8cd-f61cad1e3d0c"
      },
      "execution_count": 22,
      "outputs": [
        {
          "output_type": "execute_result",
          "data": {
            "text/plain": [
              "array([[-0.53397651,  0.57936936, -0.05787023, -0.6014636 ],\n",
              "       [ 0.982904  ,  0.06923743,  1.15920498,  0.2208236 ],\n",
              "       [ 0.58012844,  0.74439447,  0.72453526,  1.29612226],\n",
              "       [ 1.18630375, -0.43306496, -0.405606  , -1.55025653],\n",
              "       [-0.76618562,  0.04695292, -0.84027572,  0.09431788]])"
            ]
          },
          "metadata": {},
          "execution_count": 22
        }
      ]
    },
    {
      "cell_type": "code",
      "source": [
        "from sklearn.model_selection import train_test_split\n",
        "x_entre, x_test, y_entre, y_test = train_test_split(X, Y, test_size = 0.2, random_state = 4)\n",
        "print('Tren testeo', x_test.shape, y_test.shape)\n",
        "print('Tren entrenamiento', x_entre.shape, y_entre.shape)"
      ],
      "metadata": {
        "colab": {
          "base_uri": "https://localhost:8080/"
        },
        "id": "UX5WYki3kv3H",
        "outputId": "f655ef43-52d6-41a7-ac9a-c0e6790655f6"
      },
      "execution_count": 23,
      "outputs": [
        {
          "output_type": "stream",
          "name": "stdout",
          "text": [
            "Tren testeo (34, 4) (34,)\n",
            "Tren entrenamiento (135, 4) (135,)\n"
          ]
        }
      ]
    },
    {
      "cell_type": "code",
      "source": [
        "from sklearn import neighbors\n",
        "from sklearn.neighbors import KNeighborsClassifier\n",
        "k = 9\n",
        "vecinos =  KNeighborsClassifier(n_neighbors = k).fit(x_entre, y_entre)"
      ],
      "metadata": {
        "id": "exCVKac6kvuY"
      },
      "execution_count": 25,
      "outputs": []
    },
    {
      "cell_type": "code",
      "source": [
        "yf = vecinos.predict(x_test)\n",
        "yf[0:5]"
      ],
      "metadata": {
        "colab": {
          "base_uri": "https://localhost:8080/"
        },
        "id": "2f6gGV8OmRXg",
        "outputId": "95547403-74c8-4fe3-eced-3f2d21ee8a2b"
      },
      "execution_count": 26,
      "outputs": [
        {
          "output_type": "execute_result",
          "data": {
            "text/plain": [
              "array(['fracture', 'no fracture', 'no fracture', 'no fracture',\n",
              "       'no fracture'], dtype=object)"
            ]
          },
          "metadata": {},
          "execution_count": 26
        }
      ]
    },
    {
      "cell_type": "code",
      "source": [
        "from sklearn import metrics\n",
        "prec_entre = metrics.accuracy_score(y_entre, vecinos.predict(x_entre))\n",
        "prec_test = metrics.accuracy_score(y_test, yf)\n",
        "print('Precision de entrenamiento', prec_entre)\n",
        "print('Precision de testeo', prec_test)"
      ],
      "metadata": {
        "colab": {
          "base_uri": "https://localhost:8080/"
        },
        "id": "VD2k3bFinUEP",
        "outputId": "3b2604d2-45c7-44b2-b84b-4a113c3230f2"
      },
      "execution_count": 27,
      "outputs": [
        {
          "output_type": "stream",
          "name": "stdout",
          "text": [
            "Precision de entrenamiento 0.8148148148148148\n",
            "Precision de testeo 0.7941176470588235\n"
          ]
        }
      ]
    },
    {
      "cell_type": "code",
      "source": [
        "ks = 10\n",
        "media_pre = np.zeros((ks-1))\n",
        "ds_pre = np.zeros((ks-1))\n",
        "\n",
        "for n in range(1, ks):\n",
        "  vecin = KNeighborsClassifier(n_neighbors=n).fit(x_entre, y_entre)\n",
        "  yf = vecin.predict(x_test)\n",
        "  media_pre[n-1] = metrics.accuracy_score(y_test, yf)\n",
        "  ds_pre[n-1] = np.std(yf == y_test)/np.sqrt(yf.shape[0])"
      ],
      "metadata": {
        "id": "9FMCB285oYIw"
      },
      "execution_count": 31,
      "outputs": []
    },
    {
      "cell_type": "code",
      "source": [
        "plt.plot(range(1, ks), media_pre, 'g')\n",
        "plt.fill_between(range(1, ks), media_pre - 1 * ds_pre, media_pre + 1 * ds_pre, alpha=0.10)\n",
        "plt.fill_between(range(1, ks), media_pre - 3 * ds_pre, media_pre + 3 * ds_pre, alpha=0.10, color=\"green\")\n",
        "plt.legend(('Precision', '+/- lxDesvSt', '3xDescSt'))\n",
        "plt.ylabel('PRECISION')\n",
        "plt.xlabel('Numero de vencinos (K)')\n",
        "plt.tight_layout()\n",
        "plt.show()\n"
      ],
      "metadata": {
        "colab": {
          "base_uri": "https://localhost:8080/",
          "height": 487
        },
        "id": "t7WSlz7tpN2I",
        "outputId": "6d673ffd-bfc9-463a-f284-1561cd11b2ae"
      },
      "execution_count": 37,
      "outputs": [
        {
          "output_type": "display_data",
          "data": {
            "text/plain": [
              "<Figure size 640x480 with 1 Axes>"
            ],
            "image/png": "[encoded data removed]"
          },
          "metadata": {}
        }
      ]
    }
  ]
}